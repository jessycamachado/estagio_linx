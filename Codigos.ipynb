{
 "cells": [
  {
   "cell_type": "code",
   "execution_count": null,
   "metadata": {},
   "outputs": [],
   "source": [
    "import pandas as pd"
   ]
  },
  {
   "cell_type": "code",
   "execution_count": null,
   "metadata": {},
   "outputs": [],
   "source": [
    "df1 = pd.read_json('https://ml-challenge.s3.amazonaws.com/ds-intern-2020/offline_sales.json.gz', encoding='UTF-8', lines = True)"
   ]
  },
  {
   "cell_type": "code",
   "execution_count": null,
   "metadata": {
    "scrolled": true
   },
   "outputs": [],
   "source": [
    "df2 = pd.read_json('https://ml-challenge.s3.amazonaws.com/ds-intern-2020/online_pageviews.json.gz', encoding='UTF-8',  lines = True)"
   ]
  },
  {
   "cell_type": "code",
   "execution_count": null,
   "metadata": {},
   "outputs": [],
   "source": [
    "df3 = pd.read_json('https://ml-challenge.s3.amazonaws.com/ds-intern-2020/online_orders.json.gz', encoding='UTF-8',  lines = True)"
   ]
  },
  {
   "cell_type": "markdown",
   "metadata": {},
   "source": [
    "#### Verifiquei as colunas dos arquivos para saber do que se trata"
   ]
  },
  {
   "cell_type": "code",
   "execution_count": null,
   "metadata": {},
   "outputs": [],
   "source": [
    "df1.head() # Vendas em loja física"
   ]
  },
  {
   "cell_type": "code",
   "execution_count": null,
   "metadata": {},
   "outputs": [],
   "source": [
    "df2.head() # Página visitadas no ecommerce"
   ]
  },
  {
   "cell_type": "code",
   "execution_count": null,
   "metadata": {},
   "outputs": [],
   "source": [
    "df3.head() # Vendas no ecommerce"
   ]
  },
  {
   "cell_type": "markdown",
   "metadata": {},
   "source": [
    "#### Entendendo a empresa:"
   ]
  },
  {
   "cell_type": "code",
   "execution_count": null,
   "metadata": {},
   "outputs": [],
   "source": [
    "estados = df1['state'].unique() # Todos os estados com loja física\n",
    "lojas = df1['store_id'].unique() # identificação de todas as lojas físicas existentes \n",
    "\n",
    "print('A empresa possui', len(lojas), 'lojas espalhadas por', len(estados), 'estados \\n\\nOs estados são: ', estados, '\\n\\ne as lojas são:', lojas)"
   ]
  },
  {
   "cell_type": "code",
   "execution_count": null,
   "metadata": {},
   "outputs": [],
   "source": [
    "RN = df1.loc[(df1['state']=='RN')] # dataFrame apenas com as lojas físicas no estado do RN\n",
    "a = RN['store_id'].unique() # Todas as lojas físicas existentes no estado do RN\n",
    "print('RN possui:', len(a), 'loja') # Quantidade de lojas físicas no estado do RN\n",
    "\n",
    "RJ = df1.loc[(df1['state']=='RJ')] # dataFrame apenas com as lojas físicas no estado do RJ\n",
    "b = RJ['store_id'].unique() # Todas as lojas físicas existentes no estado do RJ\n",
    "print('RJ possui:', len(b), 'lojas') # Quantidade de lojas físicas no estado do RJ\n",
    "    \n",
    "SP = df1.loc[(df1['state']=='SP')] # dataFrame apenas com as lojas físicas no estado do SP\n",
    "c = SP['store_id'].unique() # Todas as lojas físicas existentes no estado do SP\n",
    "print('SP possui:', len(c), 'lojas') # Quantidade de lojas físicas existentes no estado do SP\n",
    "\n",
    "PR = df1.loc[(df1['state']=='PR')] # dataFrame apenas com as lojas físicas no estado do PR\n",
    "d = PR['store_id'].unique() # Todas as lojas físicas existentes no estado do PR\n",
    "print('PR possui:', len(d), 'lojas') # Quantidade de lojas físicas existentes no estado do PR\n",
    "\n",
    "RS = df1.loc[(df1['state']=='RS')] # dataFrame apenas com as lojas físicas no estado do RS\n",
    "e = RS['store_id'].unique() # Todas as lojas físicas existentes no estado do RS\n",
    "print('RS possui:', len(e), 'lojas') # Quantidade de lojas físicas existentes no estado do RS\n",
    "\n",
    "PE = df1.loc[(df1['state']=='PE')] # dataFrame apenas com as lojas físicas no estado do PE\n",
    "f = PE['store_id'].unique()  # Todas as lojas físicas existentes no estado do PE\n",
    "print('PE possui:', len(f), 'lojas') # Quantidade de lojas físicas existentes no estado do PE\n",
    "\n",
    "AM = df1.loc[(df1['state']=='AM')] # dataFrame apenas com as lojas físicas no estado do AM\n",
    "g = AM['store_id'].unique() # Todas as lojas físicas existentes no estado do AM\n",
    "print('AM possui:', len(g), 'lojas') # Quantidade de lojas físicas existentes no estado do AM\n",
    "\n",
    "MS = df1.loc[(df1['state']=='MS')] # dataFrame apenas com as lojas físicas no estado do MS\n",
    "h = MS['store_id'].unique()  # Todas as lojas físicas existentes no estado do MS\n",
    "print('MS possui:', len(h), 'loja') # Quantidade de lojas físicas existentes no estado do MS\n",
    "\n",
    "PI = df1.loc[(df1['state']=='PI')] # dataFrame apenas com as lojas físicas no estado do PI\n",
    "i = PI['store_id'].unique() # Todas as lojas físicas existentes no estado do PI\n",
    "print('PI possui:', len(i), 'loja') # Quantidade de lojas físicas existentes no estado do PI\n",
    "\n",
    "GO = df1.loc[(df1['state']=='GO')] # dataFrame apenas com as lojas físicas no estado do GO\n",
    "j = GO['store_id'].unique()  # Todas as lojas físicas existentes no estado do GO\n",
    "print('GO possui:', len(j), 'loja') # Quantidade de lojas físicas existentes no estado do GO\n",
    "\n",
    "MA = df1.loc[(df1['state']=='MA')] # dataFrame apenas com as lojas físicas no estado do MA\n",
    "k = MA['store_id'].unique()  # Todas as lojas físicas existentes no estado do MA\n",
    "print('MA possui:', len(k), 'loja') # Quantidade de lojas físicas existentes no estado do MA"
   ]
  },
  {
   "cell_type": "markdown",
   "metadata": {},
   "source": [
    "#### 1) Qual foi o faturamento total no período?"
   ]
  },
  {
   "cell_type": "code",
   "execution_count": null,
   "metadata": {},
   "outputs": [],
   "source": [
    "df1['quantity'].unique() # Todas as quantidades existentes na coluna 'quantity' referentes a vendas em loja física"
   ]
  },
  {
   "cell_type": "code",
   "execution_count": null,
   "metadata": {},
   "outputs": [],
   "source": [
    "df4 = df1.loc[(df1['quantity']==1)] # Lojas físicas que apresentam 1 quantidade vendida por item\n",
    "df5 = df1.loc[(df1['quantity']==2)] # Lojas físicas que apresentam 2 quantidades vendidas por item\n",
    "df6 = df1.loc[(df1['quantity']==3)] # Lojas físicas que apresentam 3 quantidades vendidas por item\n",
    "df7 = df1.loc[(df1['quantity']==4)] # Lojas físicas que apresentam 4 quantidades vendidas por item\n",
    "df8 = df1.loc[(df1['quantity']==5)] # Lojas físicas que apresentam 5 quantidades vendidas por item\n",
    "df9 = df1.loc[(df1['quantity']==6)] # Lojas físicas que apresentam 6 quantidades vendidas por item\n",
    "df10 = df1.loc[(df1['quantity']==9)] # Lojas físicas que apresentam 9 quantidades vendidas por item\n",
    "\n",
    "# faturamento total das lojas: Somatório do preço dos itens vendidos a uma quantidade específica multiplicado por esta quantidade\n",
    "faturamento_off = (df4['price'].sum()) + (df5['price'].sum() * 2) + (df6['price'].sum() * 3) + (df7['price'].sum() * 4) + (df8['price'].sum() * 5) + (df9['price'].sum() * 6) + (df10['price'].sum() * 9)\n",
    "print('O faturamento total de vendas em loja física foi: R$', faturamento_off)"
   ]
  },
  {
   "cell_type": "code",
   "execution_count": null,
   "metadata": {},
   "outputs": [],
   "source": [
    "df3['quantity'].unique( ) # Todas as quantidades existentes na coluna 'quantity' referentes a vendas em ecommerce"
   ]
  },
  {
   "cell_type": "code",
   "execution_count": null,
   "metadata": {},
   "outputs": [],
   "source": [
    "df11 = df3.loc[(df3['quantity']==1)] # vendas em ecommerce que apresentam 1 quantidade vendida por item\n",
    "df12 = df3.loc[(df3['quantity']==2)] # vendas em ecommerce que apresentam 2 quantidades vendidas por item\n",
    "df13 = df3.loc[(df3['quantity']==3)] # vendas em ecommerce que apresentam 3 quantidades vendidas por item\n",
    "\n",
    "# faturamento total no ecommerce: Somatório do preço dos itens vendidos a uma quantidade específica multiplicado por esta quantidade\n",
    "faturamento_on = (df11['price'].sum()) + (df12['price'].sum() * 2) + (df13['price'].sum() * 3)\n",
    "print('O faturamento total de vendas em loja física foi: R$', faturamento_on)"
   ]
  },
  {
   "cell_type": "code",
   "execution_count": null,
   "metadata": {},
   "outputs": [],
   "source": [
    "# faturamento total do período: somatório do faturamento em lojas físicas com as vendas em ecommerce\n",
    "faturamento_total = faturamento_off + faturamento_on\n",
    "print('O faturamento total do período foi: R$', faturamento_total)"
   ]
  },
  {
   "cell_type": "markdown",
   "metadata": {},
   "source": [
    "#### Quanto cada plataforma contribuiu para o faturamento total do período:"
   ]
  },
  {
   "cell_type": "code",
   "execution_count": null,
   "metadata": {
    "scrolled": true
   },
   "outputs": [],
   "source": [
    "porcentagemoff = (faturamento_off/faturamento_total)*100 # porcentagem correspondente ao faturamento nas lojas físicas do total\n",
    "porcentagemon = (faturamento_on/faturamento_total)*100 # porcentagem correspondente ao faturamento no ecommerce do total\n",
    "\n",
    "print('As lojas físicas corresponderam a', round(porcentagemoff,2), '% do faturamento total, enquanto que as vendas em e-commerce corresponderam a ', round(porcentagemon,2), '%')"
   ]
  },
  {
   "cell_type": "markdown",
   "metadata": {},
   "source": [
    "#### Qual o estado que mais faturou em suas lojas físicas"
   ]
  },
  {
   "cell_type": "code",
   "execution_count": null,
   "metadata": {},
   "outputs": [],
   "source": [
    "# Todas as quantidades existentes na coluna 'quantity' referentes a vendas em loja física no estado do RN\n",
    "RN['quantity'].unique()"
   ]
  },
  {
   "cell_type": "code",
   "execution_count": null,
   "metadata": {},
   "outputs": [],
   "source": [
    "RN1 = df1.loc[(df1['state']=='RN') & (df1['quantity'] == 1)] # Itens do estado do RN que apresentam 1 quantidade por item\n",
    "RN2 = RN1['price'].sum() # faturamento total referente a itens que apresentam 1 quantidade no estado do RN\n",
    "\n",
    "RN3 = df1.loc[(df1['state']=='RN') & (df1['quantity'] == 2)] # Itens do estado do RN que apresentam 2 quantidades por item\n",
    "RN4 = RN3['price'].sum() * 2 # faturamento total referente a itens que apresentam 2 quantidades no estado do RN\n",
    "\n",
    "RN5 = df1.loc[(df1['state']=='RN') & (df1['quantity'] == 3)] # Itens do estado do RN que apresentam 3 quantidades por item\n",
    "RN6 = RN5['price'].sum() * 3 # faturamento total referente a itens que apresentam 3 quantidades no estado do RN\n",
    "\n",
    "faturamento_RN = RN2 + RN4 + RN6 # faturamento total no estado do RN\n",
    "print('O faturamento do RN foi de: R$', round(faturamento_RN,2))"
   ]
  },
  {
   "cell_type": "code",
   "execution_count": null,
   "metadata": {},
   "outputs": [],
   "source": [
    "# Todas as quantidades existentes na coluna 'quantity' referentes a vendas em loja física no estado do RJ\n",
    "RJ['quantity'].unique()"
   ]
  },
  {
   "cell_type": "code",
   "execution_count": null,
   "metadata": {},
   "outputs": [],
   "source": [
    "RJ1 = df1.loc[(df1['state']=='RJ') & (df1['quantity'] == 1)] # Itens do estado do RJ que apresentam 1 quantidade por item\n",
    "RJ2 = RJ1['price'].sum() # faturamento total referente a itens que apresentam 1 quantidade no estado do RJ\n",
    "\n",
    "RJ3 = df1.loc[(df1['state']=='RJ') & (df1['quantity'] == 2)] # Itens do estado do RJ que apresentam 2 quantidades por item\n",
    "RJ4 = RJ3['price'].sum() * 2 # faturamento total referente a itens que apresentam 2 quantidades no estado do RJ\n",
    "\n",
    "RJ5 = df1.loc[(df1['state']=='RJ') & (df1['quantity'] == 3)] # Itens do estado do RJ que apresentam 3 quantidades por item\n",
    "RJ6 = RJ5['price'].sum() * 3 # faturamento total referente a itens que apresentam 3 quantidades no estado do RJ\n",
    "\n",
    "RJ7 = df1.loc[(df1['state']=='RJ') & (df1['quantity'] == 4)] # Itens do estado do RJ que apresentam 4 quantidades por item\n",
    "RJ8 = RJ7['price'].sum() * 4 # faturamento total referente a itens que apresentam 4 quantidades no estado do RJ\n",
    "\n",
    "RJ9 = df1.loc[(df1['state']=='RJ') & (df1['quantity'] == 5)] # Itens do estado do RJ que apresentam 5 quantidades por item\n",
    "RJ10 = RJ9['price'].sum() * 5 # faturamento total referente a itens que apresentam 5 quantidades no estado do RN\n",
    "\n",
    "faturamento_RJ = RJ2 + RJ4 + RJ6 + RJ8 + RJ10 # faturamento total no estado do RJ\n",
    "print('O faturamento do RJ foi de: R$', round(faturamento_RJ,2))"
   ]
  },
  {
   "cell_type": "code",
   "execution_count": null,
   "metadata": {},
   "outputs": [],
   "source": [
    "# Todas as quantidades existentes na coluna 'quantity' referentes a vendas em loja física no estado do SP\n",
    "SP['quantity'].unique()"
   ]
  },
  {
   "cell_type": "code",
   "execution_count": null,
   "metadata": {},
   "outputs": [],
   "source": [
    "SP1 = df1.loc[(df1['state']=='SP') & (df1['quantity'] == 1)] # Itens do estado de SP que apresentam 1 quantidade por item\n",
    "SP2 = SP1['price'].sum() # faturamento total referente a itens que apresentam 1 quantidade no estado de SP\n",
    "\n",
    "SP3 = df1.loc[(df1['state']=='SP') & (df1['quantity'] == 2)] # Itens do estado de SP que apresentam 2 quantidades por item\n",
    "SP4 = SP3['price'].sum() * 2 # faturamento total referente a itens que apresentam 2 quantidades no estado de SP\n",
    "\n",
    "SP5 = df1.loc[(df1['state']=='SP') & (df1['quantity'] == 3)] # Itens do estado de SP que apresentam 3 quantidades por item\n",
    "SP6 = SP5['price'].sum() * 3 # faturamento total referente a itens que apresentam 3 quantidades no estado de SP\n",
    "\n",
    "SP7 = df1.loc[(df1['state']=='SP') & (df1['quantity'] == 6)] # Itens do estado de SP que apresentam 6 quantidades por item\n",
    "SP8 = SP7['price'].sum() * 6 # faturamento total referente a itens que apresentam 6 quantidades no estado de SP\n",
    "\n",
    "SP9 = df1.loc[(df1['state']=='SP') & (df1['quantity'] == 9)] # Itens do estado de SP que apresentam 9 quantidades por item\n",
    "SP10 = SP9['price'].sum() * 9 # faturamento total referente a itens que apresentam 9 quantidades no estado de SP\n",
    "\n",
    "faturamento_SP = SP2 + SP4 + SP6 + SP8 + SP10 # faturamento total no estado de SP\n",
    "print('O faturamento do SP foi de: R$', round(faturamento_SP,2))"
   ]
  },
  {
   "cell_type": "code",
   "execution_count": null,
   "metadata": {},
   "outputs": [],
   "source": [
    "# Todas as quantidades existentes na coluna 'quantity' referentes a vendas em loja física no estado do PR\n",
    "PR['quantity'].unique()"
   ]
  },
  {
   "cell_type": "code",
   "execution_count": null,
   "metadata": {},
   "outputs": [],
   "source": [
    "PR1 = df1.loc[(df1['state']=='PR') & (df1['quantity'] == 1)] # Itens do estado do PR que apresentam 1 quantidade por item\n",
    "PR2 = PR1['price'].sum() # faturamento total referente a itens que apresentam 1 quantidade no estado do PR\n",
    "\n",
    "PR3 = df1.loc[(df1['state']=='PR') & (df1['quantity'] == 2)] # Itens do estado do PR que apresentam 2 quantidades por item\n",
    "PR4 = PR3['price'].sum() * 2 # faturamento total referente a itens que apresentam 2 quantidades no estado do PR\n",
    "\n",
    "faturamento_PR = PR2 + PR4 # faturamento total no estado do PR\n",
    "print('O faturamento do PR foi de: R$', round(faturamento_PR,2))"
   ]
  },
  {
   "cell_type": "code",
   "execution_count": null,
   "metadata": {},
   "outputs": [],
   "source": [
    "# Todas as quantidades existentes na coluna 'quantity' referentes a vendas em loja física no estado do RS\n",
    "RS['quantity'].unique()"
   ]
  },
  {
   "cell_type": "code",
   "execution_count": null,
   "metadata": {},
   "outputs": [],
   "source": [
    "RS1 = df1.loc[(df1['state']=='RS') & (df1['quantity'] == 1)] # Itens do estado do RS que apresentam 1 quantidade por item\n",
    "RS2 = RS1['price'].sum() # faturamento total referente a itens que apresentam 1 quantidade no estado do RS\n",
    "\n",
    "RS3 = df1.loc[(df1['state']=='RS') & (df1['quantity'] == 2)] # Itens do estado do RS que apresentam 2 quantidades por item\n",
    "RS4 = RS3['price'].sum() * 2 # faturamento total referente a itens que apresentam 2 quantidades no estado do RS\n",
    "\n",
    "RS5 = df1.loc[(df1['state']=='RS') & (df1['quantity'] == 3)] # Itens do estado do RS que apresentam 3 quantidades por item\n",
    "RS6 = RS5['price'].sum() * 3 # faturamento total referente a itens que apresentam 3 quantidades no estado do RS\n",
    "\n",
    "faturamento_RS = RS2 + RS4 + RS6 # faturamento total no estado do RS\n",
    "print('O faturamento do RS foi de: R$', round(faturamento_RS,2))"
   ]
  },
  {
   "cell_type": "code",
   "execution_count": null,
   "metadata": {},
   "outputs": [],
   "source": [
    "# Todas as quantidades existentes na coluna 'quantity' referentes a vendas em loja física no estado do PE\n",
    "PE['quantity'].unique()"
   ]
  },
  {
   "cell_type": "code",
   "execution_count": null,
   "metadata": {},
   "outputs": [],
   "source": [
    "PE1 = df1.loc[(df1['state']=='PE') & (df1['quantity'] == 1)] # Itens do estado de PE que apresentam 1 quantidade por item\n",
    "PE2 = PE1['price'].sum() # faturamento total referente a itens que apresentam 1 quantidade no estado de PE\n",
    "\n",
    "PE3 = df1.loc[(df1['state']=='PE') & (df1['quantity'] == 2)] # Itens do estado de PE que apresentam 2 quantidades por item\n",
    "PE4 = PE3['price'].sum() * 2 # faturamento total referente a itens que apresentam 2 quantidades no estado de PE\n",
    "\n",
    "PE5 = df1.loc[(df1['state']=='PE') & (df1['quantity'] == 3)] # Itens do estado de PE que apresentam 3 quantidades por item\n",
    "PE6 = PE5['price'].sum() * 3 # faturamento total referente a itens que apresentam 3 quantidades no estado de PE\n",
    "\n",
    "PE7 = df1.loc[(df1['state']=='PE') & (df1['quantity'] == 4)] # Itens do estado de PE que apresentam 4 quantidades por item\n",
    "PE8 = PE7['price'].sum() * 4 # faturamento total referente a itens que apresentam 4 quantidades no estado de PE\n",
    "\n",
    "PE9 = df1.loc[(df1['state']=='PE') & (df1['quantity'] == 5)] # Itens do estado de PE que apresentam 5 quantidades por item\n",
    "PE10 = PE9['price'].sum() * 5 # faturamento total referente a itens que apresentam 5 quantidades no estado de PE\n",
    "\n",
    "faturamento_PE = PE2 + PE4 + PE6 + PE8 + PE10 # faturamento total no estado de PE\n",
    "print('O faturamento do PE foi de: R$', round(faturamento_PE,2))"
   ]
  },
  {
   "cell_type": "code",
   "execution_count": null,
   "metadata": {},
   "outputs": [],
   "source": [
    "# Todas as quantidades existentes na coluna 'quantity' referentes a vendas em loja física no estado do AM\n",
    "AM['quantity'].unique()"
   ]
  },
  {
   "cell_type": "code",
   "execution_count": null,
   "metadata": {},
   "outputs": [],
   "source": [
    "AM1 = df1.loc[(df1['state']=='AM') & (df1['quantity'] == 1)] # Itens do estado do AM que apresentam 1 quantidade por item\n",
    "AM2 = AM1['price'].sum() # faturamento total referente a itens que apresentam 1 quantidade no estado do AM\n",
    "\n",
    "AM3 = df1.loc[(df1['state']=='AM') & (df1['quantity'] == 2)] # Itens do estado do AM que apresentam 2 quantidades por item\n",
    "AM4 = AM3['price'].sum() * 2 # faturamento total referente a itens que apresentam 2 quantidades no estado do AM\n",
    "\n",
    "AM5 = df1.loc[(df1['state']=='AM') & (df1['quantity'] == 3)] # Itens do estado do AM que apresentam 3 quantidades por item\n",
    "AM6 = AM5['price'].sum() * 3 # faturamento total referente a itens que apresentam 3 quantidades no estado do AM\n",
    "\n",
    "faturamento_AM = AM2 + AM4 + AM6 # faturamento total no estado do AM\n",
    "print('O faturamento do AM foi de: R$', round(faturamento_AM,2))"
   ]
  },
  {
   "cell_type": "code",
   "execution_count": null,
   "metadata": {},
   "outputs": [],
   "source": [
    "# Todas as quantidades existentes na coluna 'quantity' referentes a vendas em loja física no estado do MS\n",
    "MS['quantity'].unique()"
   ]
  },
  {
   "cell_type": "code",
   "execution_count": null,
   "metadata": {},
   "outputs": [],
   "source": [
    "MS1 = df1.loc[(df1['state']=='MS') & (df1['quantity'] == 1)] # Itens do estado do MS que apresentam 1 quantidade por item\n",
    "MS2 = MS1['price'].sum() # faturamento total referente a itens que apresentam 1 quantidade no estado do MS\n",
    "\n",
    "MS3 = df1.loc[(df1['state']=='MS') & (df1['quantity'] == 2)] # Itens do estado do MS que apresentam 2 quantidades por item\n",
    "MS4 = MS3['price'].sum() * 2 # faturamento total referente a itens que apresentam 2 quantidades no estado do MS\n",
    "\n",
    "faturamento_MS = MS2 + MS4 # faturamento total no estado do MS\n",
    "print('O faturamento do MS foi de: R$', round(faturamento_MS,2))"
   ]
  },
  {
   "cell_type": "code",
   "execution_count": null,
   "metadata": {},
   "outputs": [],
   "source": [
    "# Todas as quantidades existentes na coluna 'quantity' referentes a vendas em loja física no estado do PI\n",
    "PI['quantity'].unique()"
   ]
  },
  {
   "cell_type": "code",
   "execution_count": null,
   "metadata": {},
   "outputs": [],
   "source": [
    "PI1 = df1.loc[(df1['state']=='PI') & (df1['quantity'] == 1)] # Itens do estado do PI que apresentam 1 quantidade por item\n",
    "PI2 = PI1['price'].sum() # faturamento total referente a itens que apresentam 1 quantidade no estado do PI\n",
    "\n",
    "PI3 = df1.loc[(df1['state']=='PI') & (df1['quantity'] == 2)] # Itens do estado do PI que apresentam 2 quantidades por item\n",
    "PI4 = PI3['price'].sum() * 2 # faturamento total referente a itens que apresentam 2 quantidades no estado do PI\n",
    "\n",
    "PI5 = df1.loc[(df1['state']=='PI') & (df1['quantity'] == 3)] # Itens do estado do PI que apresentam 3 quantidades por item\n",
    "PI6 = PI5['price'].sum() * 3 # faturamento total referente a itens que apresentam 3 quantidades no estado do PI\n",
    "\n",
    "faturamento_PI = PI2 + PI4 + PI6 # faturamento total no estado do PI\n",
    "print('O faturamento do PI foi de: R$', round(faturamento_PI,2))"
   ]
  },
  {
   "cell_type": "code",
   "execution_count": null,
   "metadata": {},
   "outputs": [],
   "source": [
    "# Todas as quantidades existentes na coluna 'quantity' referentes a vendas em loja física no estado do GO\n",
    "GO['quantity'].unique()"
   ]
  },
  {
   "cell_type": "code",
   "execution_count": null,
   "metadata": {},
   "outputs": [],
   "source": [
    "GO1 = df1.loc[(df1['state']=='GO') & (df1['quantity'] == 1)] # Itens do estado de GO que apresentam 1 quantidade por item\n",
    "GO2 = GO1['price'].sum() # faturamento total referente a itens que apresentam 1 quantidade no estado de GO\n",
    "\n",
    "GO3 = df1.loc[(df1['state']=='GO') & (df1['quantity'] == 2)] # Itens do estado de GO que apresentam 2 quantidades por item\n",
    "GO4 = GO3['price'].sum() * 2 # faturamento total referente a itens que apresentam 2 quantidades no estado de GO\n",
    "\n",
    "faturamento_GO = GO2 + GO4 # faturamento total no estado de GO\n",
    "print('O faturamento do GO foi de: R$', round(faturamento_GO,2))"
   ]
  },
  {
   "cell_type": "code",
   "execution_count": null,
   "metadata": {},
   "outputs": [],
   "source": [
    "# Todas as quantidades existentes na coluna 'quantity' referentes a vendas em loja física no estado do MA\n",
    "MA['quantity'].unique()"
   ]
  },
  {
   "cell_type": "code",
   "execution_count": null,
   "metadata": {},
   "outputs": [],
   "source": [
    "MA1 = df1.loc[(df1['state']=='MA') & (df1['quantity'] == 1)] # Itens do estado do MA que apresentam 1 quantidade por item\n",
    "MA2 = MA1['price'].sum() # faturamento total referente a itens que apresentam 1 quantidade no estado do MA\n",
    "\n",
    "MA3 = df1.loc[(df1['state']=='MA') & (df1['quantity'] == 2)] # Itens do estado do MA que apresentam 2 quantidades por item\n",
    "MA4 = MA3['price'].sum() * 2 # faturamento total referente a itens que apresentam 2 quantidades no estado do MA\n",
    "\n",
    "faturamento_MA = MA2 + MA4 # faturamento total no estado do MA\n",
    "print('O faturamento do MA foi de: R$', round(faturamento_MA,2))"
   ]
  },
  {
   "cell_type": "markdown",
   "metadata": {},
   "source": [
    "#### 2) Qual o produto mais comprado online?"
   ]
  },
  {
   "cell_type": "code",
   "execution_count": null,
   "metadata": {},
   "outputs": [],
   "source": [
    "df3['on_product_id'].value_counts().head(1) # produto mais comprado online no período"
   ]
  },
  {
   "cell_type": "code",
   "execution_count": null,
   "metadata": {},
   "outputs": [],
   "source": [
    "# Todas as quantidades existentes na coluna 'quantity' referentes ao produto mais pedido no ecommerce\n",
    "df14 = df3.loc[(df3['on_product_id']==626664333563363)]\n",
    "df14['quantity'].unique()"
   ]
  },
  {
   "cell_type": "code",
   "execution_count": null,
   "metadata": {},
   "outputs": [],
   "source": [
    "df15 = (df14['price'].sum()) # faturamento total do produto mais comprado online no período\n",
    "print('Responsável por uma receita de: R$', df15)"
   ]
  },
  {
   "cell_type": "markdown",
   "metadata": {},
   "source": [
    "#### Qual o produto mais vendido na loja física por estado?"
   ]
  },
  {
   "cell_type": "code",
   "execution_count": null,
   "metadata": {},
   "outputs": [],
   "source": [
    "# produto mais vendido na loja física do estado do Rio grande do norte\n",
    "RN['off_product_id'].value_counts().head()"
   ]
  },
  {
   "cell_type": "code",
   "execution_count": null,
   "metadata": {},
   "outputs": [],
   "source": [
    "# produto mais vendido na loja física do estado do Rio de Janeiro\n",
    "RJ['off_product_id'].value_counts().head()"
   ]
  },
  {
   "cell_type": "code",
   "execution_count": null,
   "metadata": {},
   "outputs": [],
   "source": [
    "# produto mais vendido na loja física do estado de São Paulo\n",
    "SP['off_product_id'].value_counts().head()"
   ]
  },
  {
   "cell_type": "code",
   "execution_count": null,
   "metadata": {},
   "outputs": [],
   "source": [
    "# produto mais vendido na loja física do estado do Paraná\n",
    "PR['off_product_id'].value_counts().head()"
   ]
  },
  {
   "cell_type": "code",
   "execution_count": null,
   "metadata": {},
   "outputs": [],
   "source": [
    "# produto mais vendido na loja física do estado do Rio grande do sul\n",
    "RS['off_product_id'].value_counts().head()"
   ]
  },
  {
   "cell_type": "code",
   "execution_count": null,
   "metadata": {},
   "outputs": [],
   "source": [
    "# produto mais vendido na loja física do estado de Pernambuco\n",
    "PE['off_product_id'].value_counts().head() "
   ]
  },
  {
   "cell_type": "code",
   "execution_count": null,
   "metadata": {},
   "outputs": [],
   "source": [
    "# produto mais vendido na loja física do estado do Amazonas\n",
    "AM['off_product_id'].value_counts().head()"
   ]
  },
  {
   "cell_type": "code",
   "execution_count": null,
   "metadata": {},
   "outputs": [],
   "source": [
    "# produto mais vendido na loja física do estado do Mato Grosso do Sul\n",
    "MS['off_product_id'].value_counts().head()"
   ]
  },
  {
   "cell_type": "code",
   "execution_count": null,
   "metadata": {},
   "outputs": [],
   "source": [
    "# produto mais vendido na loja física do estado do Piauí\n",
    "PI['off_product_id'].value_counts().head() "
   ]
  },
  {
   "cell_type": "code",
   "execution_count": null,
   "metadata": {},
   "outputs": [],
   "source": [
    "# produto mais vendido na loja física do estado de Goiás\n",
    "GO['off_product_id'].value_counts().head()"
   ]
  },
  {
   "cell_type": "code",
   "execution_count": null,
   "metadata": {},
   "outputs": [],
   "source": [
    "# produto mais vendido na loja física do estado do Maranhão\n",
    "MA['off_product_id'].value_counts().head()"
   ]
  },
  {
   "cell_type": "markdown",
   "metadata": {},
   "source": [
    "#### 3) Cariocas gostam de comprar no fim de semana?\n",
    "##### Os finais de semana do período são: 04-08/05-08, 11-08/12-08, 18-08/19-08 e 25-08/26-08"
   ]
  },
  {
   "cell_type": "code",
   "execution_count": null,
   "metadata": {},
   "outputs": [],
   "source": [
    "m = len(RJ['sale_id'].unique()) # Quantidade de vendas efetuadas no Rio de Janeiro"
   ]
  },
  {
   "cell_type": "code",
   "execution_count": null,
   "metadata": {},
   "outputs": [],
   "source": [
    "date4 = df1.loc[(df1['date']=='2018-08-04') & (df1['state']=='RJ')] # itens vendidos na loja física do Rio de Janeiro na data 04/08/18\n",
    "date5 = df1.loc[(df1['date']=='2018-08-05') & (df1['state']=='RJ')] # itens vendidos na loja física do Rio de Janeiro na data 05/08/18\n",
    "date11 = df1.loc[(df1['date']=='2018-08-11') & (df1['state']=='RJ')] # itens vendidos na loja física do Rio de Janeiro na data 11/08/18\n",
    "date12 = df1.loc[(df1['date']=='2018-08-12') & (df1['state']=='RJ')] # itens vendidos na loja física do Rio de Janeiro na data 12/08/18\n",
    "date18 = df1.loc[(df1['date']=='2018-08-18') & (df1['state']=='RJ')] # itens vendidos na loja física do Rio de Janeiro na data 18/08/18\n",
    "date19 = df1.loc[(df1['date']=='2018-08-19') & (df1['state']=='RJ')] # itens vendidos na loja física do Rio de Janeiro na data 19/08/18\n",
    "date25 = df1.loc[(df1['date']=='2018-08-25') & (df1['state']=='RJ')] # itens vendidos na loja física do Rio de Janeiro na data 25/08/18\n",
    "date26 = df1.loc[(df1['date']=='2018-08-26') & (df1['state']=='RJ')] # itens vendidos na loja física do Rio de Janeiro na data 26/08/18"
   ]
  },
  {
   "cell_type": "code",
   "execution_count": null,
   "metadata": {},
   "outputs": [],
   "source": [
    "sale_date4 = len(date4['sale_id'].unique()) # Quantidade de vendas efetuadas no dia 04/08/2018 no RJ\n",
    "sale_date5 = len(date5['sale_id'].unique()) # Quantidade de vendas efetuadas no dia 05/08/2018 no RJ\n",
    "sale_date11 = len(date11['sale_id'].unique()) # Quantidade de vendas efetuadas no dia 11/08/2018 no RJ\n",
    "sale_date12 = len(date12['sale_id'].unique()) # Quantidade de vendas efetuadas no dia 12/08/2018 no RJ\n",
    "sale_date18 = len(date18['sale_id'].unique()) # Quantidade de vendas efetuadas no dia 18/08/2018 no RJ\n",
    "sale_date19 = len(date19['sale_id'].unique()) # Quantidade de vendas efetuadas no dia 19/08/2018 no RJ\n",
    "sale_date25 = len(date25['sale_id'].unique()) # Quantidade de vendas efetuadas no dia 25/08/2018 no RJ\n",
    "sale_date26 = len(date26['sale_id'].unique()) # Quantidade de vendas efetuadas no dia 26/08/2018 no RJ\n",
    "\n",
    "# Quantidade total de vendas efetuadas no fim de semana no RJ\n",
    "finais_semanaRJ = sale_date4 + sale_date5 + sale_date11 + sale_date12 + sale_date18 + sale_date19 + sale_date25 + sale_date26"
   ]
  },
  {
   "cell_type": "code",
   "execution_count": null,
   "metadata": {},
   "outputs": [],
   "source": [
    "print('As vendas efetuadas no mês de agosto/2018 no Rio de Janeiro totalizaram', m, 'vendas, destas,', finais_semanaRJ, 'corresponderam aos finais de semana. Ou seja, cariocas tiveram preferência em comprar nas lojas físicas no meio da semana em agosto. Porém, é necessário um estudo dos períodos anteriores para fazer previsão se os cariocas realmente gostam de comprar fim de semana.')"
   ]
  },
  {
   "cell_type": "markdown",
   "metadata": {},
   "source": [
    "#### 4) É comum escolher online e terminar a compra na loja física?"
   ]
  },
  {
   "cell_type": "code",
   "execution_count": null,
   "metadata": {},
   "outputs": [],
   "source": [
    "print('Gostaria de montar um dataFrame com as colunas iguais do df1 e df2 (customer_id), através deste novo dataFrame eu pesquiso se há entre as colunas valores iguais, demonstrando que o cliente escolheu online e terminou a compra na loja física.')"
   ]
  },
  {
   "cell_type": "markdown",
   "metadata": {},
   "source": [
    "#### 5) O time de marketing desta rede quer fazer uma campanha oferecendo um cupom de 20% nas compras de loja física para quem visitou o site e abandonou um carrinho com produtos. Estime o resultado dessa campanha."
   ]
  },
  {
   "cell_type": "code",
   "execution_count": null,
   "metadata": {},
   "outputs": [],
   "source": [
    "visitor_id_cart1 = df2.loc[(df2['pageType']=='cart')] # Referente ao acesso a pagina \"cart\" na coluna \"pageType\""
   ]
  },
  {
   "cell_type": "code",
   "execution_count": null,
   "metadata": {},
   "outputs": [],
   "source": [
    "visitor_id_cart2 = len(visitor_id_cart1['visitor_id'].unique()) # Quantidade de visitantes que acessaram a página \"cart\" \n",
    "print(visitor_id_cart2, 'visitantes acessaram os carrinhos')"
   ]
  },
  {
   "cell_type": "code",
   "execution_count": null,
   "metadata": {},
   "outputs": [],
   "source": [
    "print ('Para descobrir quem abandonou os carrinhos verificar os visitantes que acessaram o pageType cart, e comparar qual destes visitantes efetuaram as compras no ecommerce no mesmo dia do acesso a página.')"
   ]
  },
  {
   "cell_type": "markdown",
   "metadata": {},
   "source": [
    "# Insights"
   ]
  },
  {
   "cell_type": "code",
   "execution_count": null,
   "metadata": {},
   "outputs": [],
   "source": [
    "# resumo price df1\n",
    "df1['price'].describe()"
   ]
  },
  {
   "cell_type": "code",
   "execution_count": null,
   "metadata": {},
   "outputs": [],
   "source": [
    "# resumo price df3\n",
    "df3['price'].describe()"
   ]
  },
  {
   "cell_type": "code",
   "execution_count": null,
   "metadata": {},
   "outputs": [],
   "source": [
    "print('A coluna price apresenta valores discrepantes')"
   ]
  },
  {
   "cell_type": "markdown",
   "metadata": {},
   "source": [
    "#### Quantidade de vendas por estado"
   ]
  },
  {
   "cell_type": "code",
   "execution_count": null,
   "metadata": {},
   "outputs": [],
   "source": [
    "# total de vendas em loja física no período\n",
    "df24 = len(df1['sale_id'].unique())\n",
    "print('foram efetuadas', df24, 'vendas em loja física no período')"
   ]
  },
  {
   "cell_type": "code",
   "execution_count": null,
   "metadata": {},
   "outputs": [],
   "source": [
    "# total de vendas em cada estado\n",
    "l = RN['sale_id'].unique()\n",
    "print('RN efetuou:', len(l), 'vendas') # quantidade de vendas efetuadas pelo estado RN\n",
    "\n",
    "m = RJ['sale_id'].unique()\n",
    "print('RJ efetuou:', len(m), 'vendas') # quantidade de vendas efetuadas pelo estado RJ\n",
    "\n",
    "n = SP['sale_id'].unique()\n",
    "print('SP efetuou:', len(n), 'vendas') # quantidade de vendas efetuadas pelo estado SP\n",
    "\n",
    "o = PR['sale_id'].unique()\n",
    "print('PR efetuou:', len(o), 'vendas') # quantidade de vendas efetuadas pelo estado PR\n",
    "\n",
    "p = RS['sale_id'].unique()\n",
    "print('RS efetuou:', len(p), 'vendas') # quantidade de vendas efetuadas pelo estado RS\n",
    "\n",
    "q = PE['sale_id'].unique()\n",
    "print('PE efetuou:', len(q), 'vendas') # quantidade de vendas efetuadas pelo estado PE\n",
    "\n",
    "r = AM['sale_id'].unique()\n",
    "print('AM efetuou:', len(r), 'vendas') # quantidade de vendas efetuadas pelo estado AM\n",
    "\n",
    "s = MS['sale_id'].unique()\n",
    "print('MS efetuou:', len(s), 'vendas') # quantidade de vendas efetuadas pelo estado MS\n",
    "\n",
    "t = PI['sale_id'].unique()\n",
    "print('PI efetuou:', len(t), 'vendas') # quantidade de vendas efetuadas pelo estado PI\n",
    "\n",
    "u = GO['sale_id'].unique()\n",
    "print('GO efetuou:', len(u), 'vendas') # quantidade de vendas efetuadas pelo estado GO\n",
    "\n",
    "v = MA['sale_id'].unique()\n",
    "print('MA efetuou:', len(v), 'vendas') # quantidade de vendas efetuadas pelo estado MA"
   ]
  },
  {
   "cell_type": "markdown",
   "metadata": {},
   "source": [
    "#### Quantidade de vendas por loja"
   ]
  },
  {
   "cell_type": "code",
   "execution_count": null,
   "metadata": {},
   "outputs": [],
   "source": [
    "RJ['store_id'].unique() # todas as lojas do estado RJ"
   ]
  },
  {
   "cell_type": "code",
   "execution_count": null,
   "metadata": {},
   "outputs": [],
   "source": [
    "# Quantidade de vendas na loja 3166353 do Rio de Janeiro\n",
    "RJ_vendas1 = df1.loc[(df1['state']=='RJ') & (df1['store_id']==3166353)]\n",
    "len(RJ_vendas1['sale_id'].unique())"
   ]
  },
  {
   "cell_type": "code",
   "execution_count": null,
   "metadata": {},
   "outputs": [],
   "source": [
    "# Quantidade de vendas na loja 3561633 do Rio de Janeiro\n",
    "RJ_vendas2 = df1.loc[(df1['state']=='RJ') & (df1['store_id']==3561633)]\n",
    "len(RJ_vendas2['sale_id'].unique())"
   ]
  },
  {
   "cell_type": "code",
   "execution_count": null,
   "metadata": {},
   "outputs": [],
   "source": [
    "# Quantidade de vendas na loja 3630316 do Rio de Janeiro\n",
    "RJ_vendas3 = df1.loc[(df1['state']=='RJ') & (df1['store_id']==3630316)]\n",
    "len(RJ_vendas3['sale_id'].unique())"
   ]
  },
  {
   "cell_type": "code",
   "execution_count": null,
   "metadata": {},
   "outputs": [],
   "source": [
    "# Quantidade de vendas na loja 6234643 do Rio de Janeiro\n",
    "RJ_vendas4 = df1.loc[(df1['state']=='RJ') & (df1['store_id']==6234643)]\n",
    "len(RJ_vendas4['sale_id'].unique())"
   ]
  },
  {
   "cell_type": "code",
   "execution_count": null,
   "metadata": {},
   "outputs": [],
   "source": [
    "# Quantidade de vendas na loja 6236393 do Rio de Janeiro\n",
    "RJ_vendas5 = df1.loc[(df1['state']=='RJ') & (df1['store_id']==6236393)]\n",
    "len(RJ_vendas5['sale_id'].unique())"
   ]
  },
  {
   "cell_type": "code",
   "execution_count": null,
   "metadata": {},
   "outputs": [],
   "source": [
    "# Quantidade de vendas na loja 6361373 do Rio de Janeiro\n",
    "RJ_vendas6 = df1.loc[(df1['state']=='RJ') & (df1['store_id']==6361373)]\n",
    "len(RJ_vendas6['sale_id'].unique())"
   ]
  },
  {
   "cell_type": "code",
   "execution_count": null,
   "metadata": {},
   "outputs": [],
   "source": [
    "# Quantidade de vendas na loja 6366316 do Rio de Janeiro\n",
    "RJ_vendas7 = df1.loc[(df1['state']=='RJ') & (df1['store_id']==6366316)]\n",
    "len(RJ_vendas7['sale_id'].unique())"
   ]
  },
  {
   "cell_type": "code",
   "execution_count": null,
   "metadata": {},
   "outputs": [],
   "source": [
    "# Quantidade de vendas na loja 6462376 do Rio de Janeiro\n",
    "RJ_vendas8 = df1.loc[(df1['state']=='RJ') & (df1['store_id']==6462376)]\n",
    "len(RJ_vendas8['sale_id'].unique())"
   ]
  },
  {
   "cell_type": "code",
   "execution_count": null,
   "metadata": {},
   "outputs": [],
   "source": [
    "# Quantidade de vendas na loja 6561656 do Rio de Janeiro\n",
    "RJ_vendas9 = df1.loc[(df1['state']=='RJ') & (df1['store_id']==6561656)]\n",
    "len(RJ_vendas9['sale_id'].unique())"
   ]
  },
  {
   "cell_type": "code",
   "execution_count": null,
   "metadata": {},
   "outputs": [],
   "source": [
    "# Quantidade de vendas na loja 6635613 do Rio de Janeiro\n",
    "RJ_vendas10 = df1.loc[(df1['state']=='RJ') & (df1['store_id']==6635613)]\n",
    "len(RJ_vendas10['sale_id'].unique())"
   ]
  },
  {
   "cell_type": "code",
   "execution_count": null,
   "metadata": {},
   "outputs": [],
   "source": [
    "# Quantidade de vendas na loja 3863666 do Rio de Janeiro\n",
    "RJ_vendas11 = df1.loc[(df1['state']=='RJ') & (df1['store_id']==3863666)]\n",
    "len(RJ_vendas11['sale_id'].unique())"
   ]
  },
  {
   "cell_type": "code",
   "execution_count": null,
   "metadata": {},
   "outputs": [],
   "source": [
    "# Quantidade de vendas na loja 3964313 do Rio de Janeiro\n",
    "RJ_vendas12 = df1.loc[(df1['state']=='RJ') & (df1['store_id']==3964313)]\n",
    "len(RJ_vendas12['sale_id'].unique())"
   ]
  },
  {
   "cell_type": "code",
   "execution_count": null,
   "metadata": {},
   "outputs": [],
   "source": [
    "# Quantidade de vendas na loja 3234666 do Rio de Janeiro\n",
    "RJ_vendas13 = df1.loc[(df1['state']=='RJ') & (df1['store_id']==3234666)]\n",
    "len(RJ_vendas13['sale_id'].unique())"
   ]
  },
  {
   "cell_type": "code",
   "execution_count": null,
   "metadata": {},
   "outputs": [],
   "source": [
    "SP['store_id'].unique() # todas as lojas do estado SP"
   ]
  },
  {
   "cell_type": "code",
   "execution_count": null,
   "metadata": {},
   "outputs": [],
   "source": [
    "# Quantidade de vendas na loja 3531656 de São Paulo\n",
    "SP_vendas1 = df1.loc[(df1['state']=='SP') & (df1['store_id']==3531656)]\n",
    "len(SP_vendas1['sale_id'].unique())"
   ]
  },
  {
   "cell_type": "code",
   "execution_count": null,
   "metadata": {},
   "outputs": [],
   "source": [
    "# Quantidade de vendas na loja 3565343 de São Paulo\n",
    "SP_vendas2 = df1.loc[(df1['state']=='SP') & (df1['store_id']==3565343)]\n",
    "len(SP_vendas2['sale_id'].unique())"
   ]
  },
  {
   "cell_type": "code",
   "execution_count": null,
   "metadata": {},
   "outputs": [],
   "source": [
    "# Quantidade de vendas na loja 3639373 de São Paulo\n",
    "SP_vendas3 = df1.loc[(df1['state']=='SP') & (df1['store_id']==3639373)]\n",
    "len(SP_vendas3['sale_id'].unique())"
   ]
  },
  {
   "cell_type": "code",
   "execution_count": null,
   "metadata": {},
   "outputs": [],
   "source": [
    "# Quantidade de vendas na loja 6161333 de São Paulo\n",
    "SP_vendas4 = df1.loc[(df1['state']=='SP') & (df1['store_id']==6161333)]\n",
    "len(SP_vendas4['sale_id'].unique())"
   ]
  },
  {
   "cell_type": "code",
   "execution_count": null,
   "metadata": {},
   "outputs": [],
   "source": [
    "# Quantidade de vendas na loja 6564636 de São Paulo\n",
    "SP_vendas5 = df1.loc[(df1['state']=='SP') & (df1['store_id']==6564636)]\n",
    "len(SP_vendas5['sale_id'].unique())"
   ]
  },
  {
   "cell_type": "code",
   "execution_count": null,
   "metadata": {},
   "outputs": [],
   "source": [
    "# Quantidade de vendas na loja 3339656 de São Paulo\n",
    "SP_vendas6 = df1.loc[(df1['state']=='SP') & (df1['store_id']==3339656)]\n",
    "len(SP_vendas6['sale_id'].unique())"
   ]
  },
  {
   "cell_type": "code",
   "execution_count": null,
   "metadata": {},
   "outputs": [],
   "source": [
    "# Quantidade de vendas na loja 3665663 de São Paulo\n",
    "SP_vendas7 = df1.loc[(df1['state']=='SP') & (df1['store_id']==3665663)]\n",
    "len(SP_vendas7['sale_id'].unique())"
   ]
  },
  {
   "cell_type": "code",
   "execution_count": null,
   "metadata": {},
   "outputs": [],
   "source": [
    "# Quantidade de vendas na loja 3864336 de São Paulo\n",
    "SP_vendas8 = df1.loc[(df1['state']=='SP') & (df1['store_id']==3864336)]\n",
    "len(SP_vendas8['sale_id'].unique())"
   ]
  },
  {
   "cell_type": "code",
   "execution_count": null,
   "metadata": {},
   "outputs": [],
   "source": [
    "# Quantidade de vendas na loja 3161323 de São Paulo\n",
    "SP_vendas9 = df1.loc[(df1['state']=='SP') & (df1['store_id']==3161323)]\n",
    "len(SP_vendas9['sale_id'].unique())"
   ]
  },
  {
   "cell_type": "code",
   "execution_count": null,
   "metadata": {},
   "outputs": [],
   "source": [
    "# Quantidade de vendas na loja 3234626 de São Paulo\n",
    "SP_vendas10 = df1.loc[(df1['state']=='SP') & (df1['store_id']==3234626)]\n",
    "len(SP_vendas10['sale_id'].unique())"
   ]
  },
  {
   "cell_type": "code",
   "execution_count": null,
   "metadata": {},
   "outputs": [],
   "source": [
    "PR['store_id'].unique() # todas as lojas do estado PR"
   ]
  },
  {
   "cell_type": "code",
   "execution_count": null,
   "metadata": {},
   "outputs": [],
   "source": [
    "# Quantidade de vendas na loja 3561373 do Paraná\n",
    "PR_vendas1 = df1.loc[(df1['state']=='PR') & (df1['store_id']==3561373)]\n",
    "len(PR_vendas1['sale_id'].unique())"
   ]
  },
  {
   "cell_type": "code",
   "execution_count": null,
   "metadata": {},
   "outputs": [],
   "source": [
    "# Quantidade de vendas na loja 3861653 do Paraná\n",
    "PR_vendas2 = df1.loc[(df1['state']=='PR') & (df1['store_id']==3861653)]\n",
    "len(PR_vendas2['sale_id'].unique())"
   ]
  },
  {
   "cell_type": "code",
   "execution_count": null,
   "metadata": {},
   "outputs": [],
   "source": [
    "# Quantidade de vendas na loja 3237386 do Paraná\n",
    "PR_vendas3 = df1.loc[(df1['state']=='PR') & (df1['store_id']==3237386)]\n",
    "len(PR_vendas3['sale_id'].unique())"
   ]
  },
  {
   "cell_type": "code",
   "execution_count": null,
   "metadata": {},
   "outputs": [],
   "source": [
    "RS['store_id'].unique() # todas as lojas do estado RS"
   ]
  },
  {
   "cell_type": "code",
   "execution_count": null,
   "metadata": {},
   "outputs": [],
   "source": [
    "# Quantidade de vendas na loja 3561636 do Rio Grande do Sul\n",
    "RS_vendas1 = df1.loc[(df1['state']=='RS') & (df1['store_id']==3561636)]\n",
    "len(RS_vendas1['sale_id'].unique())"
   ]
  },
  {
   "cell_type": "code",
   "execution_count": null,
   "metadata": {},
   "outputs": [],
   "source": [
    "# Quantidade de vendas na loja 3639343 do Rio Grande do Sul\n",
    "RS_vendas2 = df1.loc[(df1['state']=='RS') & (df1['store_id']==3639343)]\n",
    "len(RS_vendas2['sale_id'].unique())"
   ]
  },
  {
   "cell_type": "code",
   "execution_count": null,
   "metadata": {},
   "outputs": [],
   "source": [
    "# Quantidade de vendas na loja 6637353 do Rio Grande do Sul\n",
    "RS_vendas3 = df1.loc[(df1['state']=='RS') & (df1['store_id']==6637353)]\n",
    "len(RS_vendas3['sale_id'].unique())"
   ]
  },
  {
   "cell_type": "code",
   "execution_count": null,
   "metadata": {},
   "outputs": [],
   "source": [
    "PE['store_id'].unique() # todas as lojas do estado PE"
   ]
  },
  {
   "cell_type": "code",
   "execution_count": null,
   "metadata": {},
   "outputs": [],
   "source": [
    "# Quantidade de vendas na loja 6264376 de Pernambuco\n",
    "PE_vendas1 = df1.loc[(df1['state']=='PE') & (df1['store_id']==6264376)]\n",
    "len(PE_vendas1['sale_id'].unique())"
   ]
  },
  {
   "cell_type": "code",
   "execution_count": null,
   "metadata": {},
   "outputs": [],
   "source": [
    "# Quantidade de vendas na loja 3530643 de Pernambuco\n",
    "PE_vendas2 = df1.loc[(df1['state']=='PE') & (df1['store_id']==3530643)]\n",
    "len(PE_vendas2['sale_id'].unique())"
   ]
  },
  {
   "cell_type": "code",
   "execution_count": null,
   "metadata": {},
   "outputs": [],
   "source": [
    "# Quantidade de vendas na loja 3861323 de Pernambuco\n",
    "PE_vendas2 = df1.loc[(df1['state']=='PE') & (df1['store_id']==3861323)]\n",
    "len(PE_vendas2['sale_id'].unique())"
   ]
  },
  {
   "cell_type": "code",
   "execution_count": null,
   "metadata": {},
   "outputs": [],
   "source": [
    "AM['store_id'].unique() # todas as lojas do estado AM"
   ]
  },
  {
   "cell_type": "code",
   "execution_count": null,
   "metadata": {},
   "outputs": [],
   "source": [
    "# Quantidade de vendas na loja 6533396 do Amazonas\n",
    "AM_vendas1 = df1.loc[(df1['state']=='AM') & (df1['store_id']==6533396)]\n",
    "len(AM_vendas1['sale_id'].unique())"
   ]
  },
  {
   "cell_type": "code",
   "execution_count": null,
   "metadata": {},
   "outputs": [],
   "source": [
    "# Quantidade de vendas na loja 3864393 do Amazonas\n",
    "AM_vendas2 = df1.loc[(df1['state']=='AM') & (df1['store_id']==3864393)]\n",
    "len(AM_vendas2['sale_id'].unique())"
   ]
  },
  {
   "cell_type": "markdown",
   "metadata": {},
   "source": [
    "#### Produto mais acessado no ecommerce"
   ]
  },
  {
   "cell_type": "code",
   "execution_count": null,
   "metadata": {},
   "outputs": [],
   "source": [
    "# Produto mais acessado\n",
    "acesso = df2.loc[(df2['pageType']=='product')]\n",
    "acesso['on_product_id'].value_counts().head(1)"
   ]
  }
 ],
 "metadata": {
  "kernelspec": {
   "display_name": "Python 3",
   "language": "python",
   "name": "python3"
  },
  "language_info": {
   "codemirror_mode": {
    "name": "ipython",
    "version": 3
   },
   "file_extension": ".py",
   "mimetype": "text/x-python",
   "name": "python",
   "nbconvert_exporter": "python",
   "pygments_lexer": "ipython3",
   "version": "3.6.5"
  }
 },
 "nbformat": 4,
 "nbformat_minor": 2
}
