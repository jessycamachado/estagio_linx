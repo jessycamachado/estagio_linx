{
 "cells": [
  {
   "cell_type": "markdown",
   "metadata": {},
   "source": [
    "### Metodologia utilizada:"
   ]
  },
  {
   "cell_type": "markdown",
   "metadata": {},
   "source": [
    "##### Passos:\n",
    "Entender os dados, o questionário, a empresa e montar as respostas e insights."
   ]
  },
  {
   "cell_type": "markdown",
   "metadata": {},
   "source": [
    "#### Entendendo os dados:\n",
    "\n",
    "O dados disponíveis em vendas de loja física são referentes a: datas das vendas, estado, identificador da loja, identificador da venda, o identificador do produto vendido, quantidade vendida, preço dos produtos e identificador do cliente.\n",
    "\n",
    "Os dados disponíveis em páginas visitadas no e-commerce são referentes a: data da visita à pagina, identificador do visitante, o tipo de dispositivo utilizado para o acesso, que página o visitante acessou no ecommerce, o identificador da categoria, o identificador do produto disponível e o identificador do cliente.\n",
    "\n",
    "Os dados disponíveis em pedidos feitos no ecommerce são referentes a: datas das vendas, identificador do visitante, o tipo de dispositivo utilizado para o acesso, o identificador do pedido, quantidade do pedido, o preço e o identificador do cliente."
   ]
  },
  {
   "cell_type": "markdown",
   "metadata": {},
   "source": [
    "#### Insights do primeiro dataFrame:\n",
    "Através dos dados de vendas de loja física é possível identificar:\n",
    "\n",
    "Os períodos que houve mais faturamento;\n",
    "\n",
    "Os faturamentos totais, seja do estado, da loja, a loja que mais faturou, a loja que menos faturou (valioso para aplicação de metas de vendas);\n",
    "\n",
    "Em que estados a empresa possui lojas físicas;\n",
    "\n",
    "Quantas lojas físicas presentes em cada estado, a quantidade total de lojas físicas;\n",
    "\n",
    "Quantos itens foram pedidos na mesma compra (valioso para montagem de corredores em supermercados, por exemplo, pois itens próximos um do outro possuem grande chance de serem vendidos dependendo do perfil padrão do comprador);\n",
    "\n",
    "Itens mais vendidos e menos vendidos pela empresa em todo o país;\n",
    "\n",
    "Total de vendas efetuadas (valioso para aplicação de metas de vendas);"
   ]
  },
  {
   "cell_type": "markdown",
   "metadata": {},
   "source": [
    "#### Insights do segundo dataFrame:\n",
    "\n",
    "Através dos dados de vendas de páginas visitadas no ecommerce é possível identificar:\n",
    "\n",
    "O produto mais acessado no ecommerce;\n",
    "\n",
    "Juntamente com o terceiro dataFrame é possível descobrir os carrinhos abandonados;\n"
   ]
  },
  {
   "cell_type": "markdown",
   "metadata": {},
   "source": [
    "#### Insights do terceiro dataFrame:\n",
    "Através dos dados de vendas no ecommerce é possível identificar:\n",
    "\n",
    "Os períodos que houve mais faturamento;\n",
    "\n",
    "O faturamento total;\n",
    "\n",
    "Quantos itens foram pedidos na mesma compra (valioso para os recomendáveis);\n",
    "\n",
    "Item mais pedido e menos pedido;"
   ]
  },
  {
   "cell_type": "markdown",
   "metadata": {},
   "source": [
    "## Perguntas"
   ]
  },
  {
   "cell_type": "markdown",
   "metadata": {},
   "source": [
    "#### 1) Qual foi o faturamento total no período?\n",
    "O faturamento total de vendas em loja física foi de R$ 13.903.005,32.\n",
    "\n",
    "Já o faturamento total de vendas no ecommerce foi de R$ 5.649.323,00.\n",
    "\n",
    "Sendo assim, o faturamento total do período foi de R$ 19.552.328,32.\n",
    "\n",
    "As lojas físicas corresponderam a 71.11 % do faturamento total, enquanto que as vendas em e-commerce corresponderam a  28.89 %.\n",
    "\n",
    "O estado que mais faturou foi o RJ com R$ 6.257.418,5, e o que menos faturou foi GO, com 169.031,07"
   ]
  },
  {
   "cell_type": "markdown",
   "metadata": {},
   "source": [
    "#### 2 ) Qual o produto mais comprado online?\n",
    "\n",
    "O produto mais comprado online em agosto/2018 foi o 626664333563363, comercializado 74 vezes com o preço unitário de R$ 498,00 (receita total do produto = 36.852,00). Porém, não se pode tirar conclusões que ele é o produto mais comprado online, apenas o mais comprado no período."
   ]
  },
  {
   "cell_type": "markdown",
   "metadata": {},
   "source": [
    "#### 3) Cariocas gostam de comprar no fim de semana?\n",
    "As vendas efetuadas no mês de agosto/2018 no Rio de Janeiro totalizaram 4401 vendas, destas, 887 corresponderam aos finais de semana. Ou seja, cariocas tiveram preferência em comprar nas lojas físicas no meio da semana no período analisado. Porém, é necessário um estudo dos períodos anteriores para afirmar se os cariocas realmente preferem comprar ou não final de semana.\n",
    "\n",
    "Aqui há duas interpretações, a utilizada foi gostos = preferências. Porém, como o número de compradores no final de semana é considerável, os cariocas que fazem parte deste número gostam de comprar aos finais de semana."
   ]
  },
  {
   "cell_type": "markdown",
   "metadata": {},
   "source": [
    "#### 4) É comum escolher online e terminar a compra na loja física?\n",
    "Não sei qual o jeito mais funcional de montar este código mas acredito que para chegar ao resultado o passo deve ser este:\n",
    "Gostaria de montar um dataFrame com as colunas iguais do df1 e df2 (customer_id), através deste novo dataFrame eu pesquiso se há entre as colunas valores iguais, demonstrando que o cliente escolheu online e terminou a compra na loja física."
   ]
  },
  {
   "cell_type": "markdown",
   "metadata": {},
   "source": [
    "#### 5) O time de marketing desta rede quer fazer uma campanha oferecendo um cupom de 20% nas compras de loja física para quem visitou o site e abandonou um carrinho com produtos. Estime o resultado dessa campanha.\n",
    "\n",
    "Também não consegui encontra um código funcional, mas o passo seria esse: para descobrir quem abandonou os carrinhos verificar os visitantes que acessaram o pageType \"cart\", e comparar qual destes visitantes efetuaram as compras no ecommerce no mesmo dia do acesso a página.\n",
    "Porém, considerando que quem abandona o carrinho é um potencial cliente, o resultado desta campanha é positiva a longo prazo. Este cliente irá consumir a campanha e, gostando do produto ofertado, poderá retornar a loja."
   ]
  },
  {
   "cell_type": "markdown",
   "metadata": {},
   "source": [
    "#### Bônus: o que mais de interessante tem nesses dados\n",
    "\n",
    "O mais interessante foi saber o quão dados são fundamentais na tomada de decisão de uma empresa, isto reduz custos, aumenta produtividade e eficiência, além de melhorar a experiência do cliente e agregar valor.\n",
    "Deu para entender o funcionamento geral de uma empresa com informações valiosas que vão de preço mínimo de um produto até estipular metas de vendas com base nos resultados, por exemplo.\n",
    "\n",
    "Toda vez que se abre o arquivo para análise surgem mais um monte de resultados e métricas de dados que não consegui reproduzir todos que eu gostaria, mas as ideias foram muitas."
   ]
  },
  {
   "cell_type": "markdown",
   "metadata": {},
   "source": [
    "#### Entendendo a empresa:\n",
    "\n",
    "A empresa possui 39 lojas espalhadas por 11 estados.\n",
    "\n",
    "Os estados são: RN, RJ, SP, PR, RS, PE, AM, MS, PI, GO e MA.\n",
    "\n",
    "E e as lojas são: 3162633, 3166353, 3531656, 3561373, 3561633, 3561636, 3565343, 3630316, 3639343, 3639373, 6161333, 6234643, 6236393, 6264376, 6361373, 6366316, 6462376, 6533396, 6561656, 6564636, 6635613, 6637353, 3339656, 3361343, 3464653, 3530643, 3662633, 3665663, 3861323, 3861653, 3863666, 3864336, 3864393, 3964313, 3966336, 3161323, 3234626, 3234666 e 3237386.\n",
    "\n",
    "RN possui 1 loja; RJ possui 13 lojas, SP possui 10 lojas, PR possui 3 lojas, RS possui 3 lojas, PE possui 3 lojas, AM possui 2 lojas, MS possui 1 loja, PI possui 1 loja, GO possui 1 loja e MA possui 1 loja.\n"
   ]
  },
  {
   "cell_type": "markdown",
   "metadata": {},
   "source": [
    "#### Qual o produto mais vendido na loja física em todo o país?\n",
    "\n",
    "O produto mais vendido em loja física em agosto/2018 foi:\n",
    "\n",
    "RN, PE, AM, PI,  e MA: 323531386239613\n",
    "\n",
    "RJ e SP: 643338383935343\n",
    "\n",
    "PR: 386439386630373, 343236663337323 e 306630646562613 \n",
    "\n",
    "RS: 313632613433353\n",
    "\n",
    "MS: 396364653331643, 633764336533363 e 383131333065306\n",
    "\n",
    "GO: 323732303537376 "
   ]
  },
  {
   "cell_type": "markdown",
   "metadata": {},
   "source": [
    "#### Total de vendas por estado\n",
    "RN efetuou: 794 vendas\n",
    "RJ efetuou: 4401 vendas\n",
    "SP efetuou: 2980 vendas\n",
    "PR efetuou: 405 vendas\n",
    "RS efetuou: 2177 vendas\n",
    "PE efetuou: 1715 vendas\n",
    "AM efetuou: 776 vendas\n",
    "MS efetuou: 149 vendas\n",
    "PI efetuou: 491 vendas\n",
    "GO efetuou: 158 vendas\n",
    "MA efetuou: 573 vendas\n",
    "\n",
    "A loja que mais vendeu foi a loja 3639343 do RS com: 1202 vendas"
   ]
  },
  {
   "cell_type": "markdown",
   "metadata": {},
   "source": [
    "#### Produto mais acessado no ecommerce:\n",
    "\n",
    "Foi o produto 6.263343e+14."
   ]
  },
  {
   "cell_type": "markdown",
   "metadata": {},
   "source": [
    "#### Desafios:\n",
    "\n",
    "O principal desafio foi os códigos da biblioteca pandas. Através da documentação pandas disponível em \"https://pandas.pydata.org/pandas-docs/stable/\" eu pude executar as ideias principais disponíveis no item esqueleto das respostas\" no presente relatório, o que me trouxeram grandes conhecimentos. Com a visão analítica que possuo, conquistada ao longo da minha graduação até aqui, tenho o passo a passo de como quero alcançar as respostas, porém falta ainda a experiência e usabilidade dos códigos em Python para atingir este objetivo, que serão construídos com o estágio.\n",
    "Como o tempo é curto, gostaria de ter tido êxito em todas as perguntas, montar gráficos com a biblioteca matplotlib, buscado códigos mais funcionais e construir todos os insights possíveis que eu espero demosntrar no estágio."
   ]
  },
  {
   "cell_type": "code",
   "execution_count": null,
   "metadata": {},
   "outputs": [],
   "source": []
  }
 ],
 "metadata": {
  "kernelspec": {
   "display_name": "Python 3",
   "language": "python",
   "name": "python3"
  },
  "language_info": {
   "codemirror_mode": {
    "name": "ipython",
    "version": 3
   },
   "file_extension": ".py",
   "mimetype": "text/x-python",
   "name": "python",
   "nbconvert_exporter": "python",
   "pygments_lexer": "ipython3",
   "version": "3.6.5"
  }
 },
 "nbformat": 4,
 "nbformat_minor": 2
}
